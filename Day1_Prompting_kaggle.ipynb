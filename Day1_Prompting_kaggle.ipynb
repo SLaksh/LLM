{
  "nbformat": 4,
  "nbformat_minor": 0,
  "metadata": {
    "colab": {
      "provenance": [],
      "authorship_tag": "ABX9TyMYiLgbyhuQSZT4T6E8ccr1",
      "include_colab_link": true
    },
    "kernelspec": {
      "name": "python3",
      "display_name": "Python 3"
    },
    "language_info": {
      "name": "python"
    }
  },
  "cells": [
    {
      "cell_type": "markdown",
      "metadata": {
        "id": "view-in-github",
        "colab_type": "text"
      },
      "source": [
        "<a href=\"https://colab.research.google.com/github/SLaksh/LLM/blob/main/Day1_Prompting_kaggle.ipynb\" target=\"_parent\"><img src=\"https://colab.research.google.com/assets/colab-badge.svg\" alt=\"Open In Colab\"/></a>"
      ]
    },
    {
      "cell_type": "code",
      "execution_count": 1,
      "metadata": {
        "id": "R6c_Xy5LfQWA"
      },
      "outputs": [],
      "source": [
        "!pip install -U -q \"google-generativeai>=0.8.3\""
      ]
    },
    {
      "cell_type": "code",
      "source": [
        "import google.generativeai as genai\n",
        "from IPython.display import HTML, Markdown, display"
      ],
      "metadata": {
        "id": "hX5ipJd8f0DW"
      },
      "execution_count": 2,
      "outputs": []
    },
    {
      "cell_type": "code",
      "source": [
        "import pathlib\n",
        "import textwrap\n",
        "import google.generativeai as genai\n",
        "from IPython.display import display\n",
        "from IPython.display import Markdown\n",
        "\n",
        "def to_markdown(text):\n",
        "  text = text.replace('•', ' *')\n",
        "  return Markdown(textwrap.indent(text, '> ', predicate=lambda _: True))"
      ],
      "metadata": {
        "id": "jj73fYGMf4PL"
      },
      "execution_count": 3,
      "outputs": []
    },
    {
      "cell_type": "code",
      "source": [
        "genai.configure(api_key='mySecret')"
      ],
      "metadata": {
        "id": "yRjQVZouf6eh"
      },
      "execution_count": 4,
      "outputs": []
    },
    {
      "cell_type": "code",
      "source": [
        "import google.generativeai as genai\n",
        "from google.colab import userdata\n",
        "\n",
        "GOOGLE_API_KEY=userdata.get('mySecret')\n",
        "genai.configure(api_key=GOOGLE_API_KEY)"
      ],
      "metadata": {
        "id": "CSnBmr8Gf-Dm"
      },
      "execution_count": 5,
      "outputs": []
    },
    {
      "cell_type": "code",
      "source": [
        "model = genai.GenerativeModel('gemini-1.5-pro')\n",
        "\n",
        "# Display formatted Markdown response\n",
        "response = model.generate_content(\"Print the Fibonnaci number between 0 and 20.\")\n",
        "to_markdown(response.text)"
      ],
      "metadata": {
        "colab": {
          "base_uri": "https://localhost:8080/",
          "height": 244
        },
        "id": "kgUbziVzgAvR",
        "outputId": "ce8cf4fe-0436-4e4e-d01f-e034f483d6c7"
      },
      "execution_count": 6,
      "outputs": [
        {
          "output_type": "execute_result",
          "data": {
            "text/plain": [
              "<IPython.core.display.Markdown object>"
            ],
            "text/markdown": "> ```python\n> def fibonacci_up_to_20():\n>     \"\"\"Prints Fibonacci numbers between 0 and 20.\"\"\"\n> \n>     a, b = 0, 1\n>     while a <= 20:\n>         print(a, end=\" \")\n>         a, b = b, a + b\n> \n> fibonacci_up_to_20()\n> ```\n> \n> This code will output:\n> \n> ```\n> 0 1 1 2 3 5 8 13 \n> ```\n"
          },
          "metadata": {},
          "execution_count": 6
        }
      ]
    },
    {
      "cell_type": "code",
      "source": [
        "flash = genai.GenerativeModel('gemini-1.5-flash')\n",
        "response = flash.generate_content(\"Explain AI to me like I'm a kid.\")\n",
        "print(response.text)"
      ],
      "metadata": {
        "colab": {
          "base_uri": "https://localhost:8080/",
          "height": 173
        },
        "id": "uW-1v9hMgLd_",
        "outputId": "2f2035f2-e9f6-4fd7-94ea-0c024b69711f"
      },
      "execution_count": 8,
      "outputs": [
        {
          "output_type": "stream",
          "name": "stdout",
          "text": [
            "Imagine you have a really smart puppy.  You teach it tricks, like \"sit\" and \"fetch.\"  The more you teach it, the better it gets at those tricks.\n",
            "\n",
            "AI is kind of like that, but instead of a puppy, it's a computer program.  We \"teach\" the computer program by showing it lots and lots of examples.  For example, we might show it thousands of pictures of cats and dogs, so it can learn to tell the difference.\n",
            "\n",
            "The computer program learns from these examples, just like your puppy learns from your training.  Then, it can try to do new things, like identify a cat or dog in a picture it's *never* seen before!\n",
            "\n",
            "It's not really \"thinking\" like you and me, but it can be really good at specific tasks, like playing games, translating languages, or even writing stories (though sometimes it makes silly mistakes!).  It's still learning and getting better all the time.\n",
            "\n"
          ]
        }
      ]
    },
    {
      "cell_type": "code",
      "source": [
        "chat = flash.start_chat(history=[])\n",
        "response = chat.send_message('Hello! My name is Laksh.')\n",
        "print(response.text)"
      ],
      "metadata": {
        "colab": {
          "base_uri": "https://localhost:8080/",
          "height": 51
        },
        "id": "diC8vsR3gO0_",
        "outputId": "562fdd23-6615-424e-da1e-9eeba88ca6e3"
      },
      "execution_count": 9,
      "outputs": [
        {
          "output_type": "stream",
          "name": "stdout",
          "text": [
            "Hello Laksh! It's nice to meet you.  How can I help you today?\n",
            "\n"
          ]
        }
      ]
    },
    {
      "cell_type": "code",
      "source": [
        "response = chat.send_message('Can you tell something interesting about dinosaurs?')\n",
        "print(response.text)"
      ],
      "metadata": {
        "colab": {
          "base_uri": "https://localhost:8080/",
          "height": 71
        },
        "id": "zAKgwsZQgSjU",
        "outputId": "9f120a4f-f124-48e3-f98e-f0d93b824305"
      },
      "execution_count": 10,
      "outputs": [
        {
          "output_type": "stream",
          "name": "stdout",
          "text": [
            "Did you know that some dinosaurs had feathers?  While we often picture dinosaurs as scaly reptiles, many theropod dinosaurs (the group that includes *Tyrannosaurus rex*) were actually covered in feathers, ranging from simple filaments to complex, flight-capable plumage.  This discovery significantly changed our understanding of dinosaur evolution and their relationship to birds.  The evolution of feathers likely started as insulation, later evolving into structures used for display and eventually flight.\n",
            "\n"
          ]
        }
      ]
    },
    {
      "cell_type": "code",
      "source": [
        "# While you have the `chat` object around, the conversation state\n",
        "# persists. Confirm that by asking if it knows my name.\n",
        "response = chat.send_message('Do you remember what my name is?')\n",
        "print(response.text)"
      ],
      "metadata": {
        "colab": {
          "base_uri": "https://localhost:8080/",
          "height": 51
        },
        "id": "f5IlmIiWgWuP",
        "outputId": "070bff81-1555-4d91-bf5d-cf2e9dcf28dd"
      },
      "execution_count": 11,
      "outputs": [
        {
          "output_type": "stream",
          "name": "stdout",
          "text": [
            "Yes, your name is Laksh.\n",
            "\n"
          ]
        }
      ]
    },
    {
      "cell_type": "code",
      "source": [
        "for model in genai.list_models():\n",
        "  print(model.name)"
      ],
      "metadata": {
        "colab": {
          "base_uri": "https://localhost:8080/",
          "height": 595
        },
        "id": "WBpDec4ugbCh",
        "outputId": "56e71cbc-3ea4-4081-8844-00cd571cdc5f"
      },
      "execution_count": 12,
      "outputs": [
        {
          "output_type": "stream",
          "name": "stdout",
          "text": [
            "models/chat-bison-001\n",
            "models/text-bison-001\n",
            "models/embedding-gecko-001\n",
            "models/gemini-1.0-pro-latest\n",
            "models/gemini-1.0-pro\n",
            "models/gemini-pro\n",
            "models/gemini-1.0-pro-001\n",
            "models/gemini-1.0-pro-vision-latest\n",
            "models/gemini-pro-vision\n",
            "models/gemini-1.5-pro-latest\n",
            "models/gemini-1.5-pro-001\n",
            "models/gemini-1.5-pro-002\n",
            "models/gemini-1.5-pro\n",
            "models/gemini-1.5-pro-exp-0801\n",
            "models/gemini-1.5-pro-exp-0827\n",
            "models/gemini-1.5-flash-latest\n",
            "models/gemini-1.5-flash-001\n",
            "models/gemini-1.5-flash-001-tuning\n",
            "models/gemini-1.5-flash\n",
            "models/gemini-1.5-flash-exp-0827\n",
            "models/gemini-1.5-flash-002\n",
            "models/gemini-1.5-flash-8b\n",
            "models/gemini-1.5-flash-8b-001\n",
            "models/gemini-1.5-flash-8b-latest\n",
            "models/gemini-1.5-flash-8b-exp-0827\n",
            "models/gemini-1.5-flash-8b-exp-0924\n",
            "models/gemini-2.0-flash-exp\n",
            "models/gemini-exp-1206\n",
            "models/gemini-exp-1121\n",
            "models/gemini-exp-1114\n",
            "models/learnlm-1.5-pro-experimental\n",
            "models/embedding-001\n",
            "models/text-embedding-004\n",
            "models/aqa\n"
          ]
        }
      ]
    },
    {
      "cell_type": "code",
      "source": [
        "for model in genai.list_models():\n",
        "  if model.name == 'models/gemini-1.5-flash':\n",
        "    print(model)\n",
        "    break"
      ],
      "metadata": {
        "colab": {
          "base_uri": "https://localhost:8080/",
          "height": 238
        },
        "id": "KwXRChoUglNI",
        "outputId": "c895767c-5c70-427f-a586-f551da82c868"
      },
      "execution_count": 13,
      "outputs": [
        {
          "output_type": "stream",
          "name": "stdout",
          "text": [
            "Model(name='models/gemini-1.5-flash',\n",
            "      base_model_id='',\n",
            "      version='001',\n",
            "      display_name='Gemini 1.5 Flash',\n",
            "      description=('Alias that points to the most recent stable version of Gemini 1.5 Flash, our '\n",
            "                   'fast and versatile multimodal model for scaling across diverse tasks.'),\n",
            "      input_token_limit=1000000,\n",
            "      output_token_limit=8192,\n",
            "      supported_generation_methods=['generateContent', 'countTokens'],\n",
            "      temperature=1.0,\n",
            "      max_temperature=2.0,\n",
            "      top_p=0.95,\n",
            "      top_k=40)\n"
          ]
        }
      ]
    },
    {
      "cell_type": "markdown",
      "source": [
        "# **Explore generation parameters**\n",
        " <font face=\"Georgia\" size=5 color=' #3F33FF'> **Output Length**<font>\n",
        "\n",
        "\n",
        "When generating text with an LLM, the output length affects cost and performance. Generating more tokens increases computation, leading to higher energy consumption, latency, and cost.\n",
        "\n",
        "\n",
        "To stop the model from generating tokens past a limit, you can specify the max_output_tokens parameter when using the Gemini API. Specifying this parameter does not influence the generation of the output tokens, so the output will not become more stylistically or textually succinct, but it will stop generating tokens once the specified length is reached.\n",
        "\n",
        "Prompt engineering may be required to generate a more complete output for your given limit."
      ],
      "metadata": {
        "id": "ByfcUWJcgqy6"
      }
    },
    {
      "cell_type": "code",
      "source": [
        "short_model = genai.GenerativeModel(\n",
        "    'gemini-1.5-flash',\n",
        "    generation_config=genai.GenerationConfig(max_output_tokens=300))\n",
        "\n",
        "response = short_model.generate_content('Write a 1000 word essay on the VIT University in modern society.')\n",
        "print(response.text)"
      ],
      "metadata": {
        "colab": {
          "base_uri": "https://localhost:8080/",
          "height": 156
        },
        "id": "PNXOzfaQg3GA",
        "outputId": "83bfb182-23d7-4d9a-f7c3-4b5a15c9a84e"
      },
      "execution_count": 14,
      "outputs": [
        {
          "output_type": "stream",
          "name": "stdout",
          "text": [
            "## VIT University in Modern Society: A Crucible of Innovation and Challenges\n",
            "\n",
            "Vellore Institute of Technology (VIT), a private deemed-to-be university located in Vellore, Tamil Nadu, India, stands as a significant player in the landscape of modern higher education. Its evolution from a humble engineering college to a sprawling multi-disciplinary institution reflects both the burgeoning demand for skilled professionals in India and the evolving role of private universities in a globalized world.  However, its success is interwoven with challenges that reflect broader issues within the Indian education system and the aspirations of a rapidly developing nation.\n",
            "\n",
            "VIT's contribution to modern society is multifaceted.  At its core, the university acts as a significant engine for human capital development. It annually produces thousands of graduates across various disciplines, ranging from engineering and technology to management, medicine, and the humanities.  These graduates contribute significantly to India's workforce, filling critical roles in the burgeoning IT sector, manufacturing industries, research organizations, and government agencies.  The university’s emphasis on practical skills and industry collaboration ensures that its alumni are equipped with the knowledge and abilities needed to navigate the complexities of the modern workplace.  Its placement record, often highlighted in university rankings, speaks volumes about the institution's success in connecting its students with employment opportunities, contributing directly to economic growth and social mobility.\n",
            "\n",
            "Furthermore, VIT’s commitment to research and innovation is shaping India's technological landscape.  The university actively encourages research activities through dedicated research centers and collaborations\n"
          ]
        }
      ]
    },
    {
      "cell_type": "markdown",
      "source": [
        "<font face=\"Georgia\" size=5 color=' #800080'> **Another Example**<font>"
      ],
      "metadata": {
        "id": "x63IoWR4g8oq"
      }
    },
    {
      "cell_type": "code",
      "source": [
        "response = short_model.generate_content('Write a short poem on the importance of Humanity in modern society.')\n",
        "print(response.text)"
      ],
      "metadata": {
        "id": "GOdCdc_og9dA"
      },
      "execution_count": null,
      "outputs": []
    },
    {
      "cell_type": "markdown",
      "source": [
        "<font face=\"Georgia\" size=5 color=' #6E2C00'> **Exploring more**<font>"
      ],
      "metadata": {
        "id": "PLeJjGEOhH09"
      }
    },
    {
      "cell_type": "code",
      "source": [
        "response = short_model.generate_content('Write a short story on the importance of 5G network.')\n",
        "print(response.text)"
      ],
      "metadata": {
        "colab": {
          "base_uri": "https://localhost:8080/",
          "height": 122
        },
        "id": "ukP0kkhehXZr",
        "outputId": "19088ea5-0208-43ce-9840-f4aca2904163"
      },
      "execution_count": 15,
      "outputs": [
        {
          "output_type": "stream",
          "name": "stdout",
          "text": [
            "The old woman, Elara, clutched the worn photo of her grandson, Leo.  He was a bright spark, a budding robotics engineer living thousands of kilometers away in the bustling metropolis of Neo-Kyoto.  Before 5G, their weekly video calls were a frustrating slideshow of pixelated faces and dropped connections.  Now, thanks to the ubiquitous 5G network weaving its way across the globe, she could see Leo's face with breathtaking clarity, almost as if he were in the same room.\n",
            "\n",
            "Leo was working on a revolutionary project: a swarm of miniature drones designed to monitor and repair damaged infrastructure after natural disasters.  He showed Elara a holographic projection of the drones, their intricate designs shimmering in the air, thanks to the ultra-low latency of the 5G network allowing for seamless real-time data transmission.  Without the speed and responsiveness of 5G, the complex calculations needed to coordinate the swarm would be impossible. The drones, a project reliant on instantaneous communication, were only a glimmer in his eye before the 5G revolution.\n",
            "\n",
            "Suddenly, news alerts flashed across Leo's screen. A massive earthquake had struck a remote island nation, cutting off communication and leaving millions in desperate need of aid.  Elara watched, her heart pounding, as Leo's team sprang into action.  The 5G network, resilient and far-reaching, allowed them to deploy the drones remotely, providing real-time assessments of the damage and guiding\n"
          ]
        }
      ]
    },
    {
      "cell_type": "markdown",
      "source": [
        "<font face=\"Georgia\" size=5 color=' #FFC300'> **Temperature**<font>\n",
        "\n",
        "**Temperature** controls the degree of randomness in token selection.\n",
        "\n",
        "**Higher temperatures** result in a higher number of candidate tokens from which the next output token is selected, and can produce more diverse results, while **lower temperatures** have the opposite effect, such that a temperature of 0 results in greedy decoding, selecting the most probable token at each step.\n",
        "\n",
        "Temperature doesn't provide any guarantees of randomness, but it can be used to \"nudge\" the output somewhat.\n",
        "\n",
        "Note that if you see a 429 Resource Exhausted error here, you may be able to edit the words in the prompt slightly to progress."
      ],
      "metadata": {
        "id": "4hTUQgrNy1WT"
      }
    },
    {
      "cell_type": "code",
      "source": [
        "from google.api_core import retry\n",
        "\n",
        "high_temp_model = genai.GenerativeModel(\n",
        "    'gemini-1.5-flash',\n",
        "    generation_config=genai.GenerationConfig(temperature=2.0))\n",
        "\n",
        "\n",
        "# When running lots of queries, it's a good practice to use a retry policy so your code\n",
        "# automatically retries when hitting Resource Exhausted (quota limit) errors.\n",
        "retry_policy = {\n",
        "    \"retry\": retry.Retry(predicate=retry.if_transient_error, initial=10, multiplier=1.5, timeout=300)\n",
        "}\n",
        "\n",
        "for _ in range(10):\n",
        "  response = high_temp_model.generate_content('Pick a random colour... (respond in a single word)', request_options=retry_policy)\n",
        "  if response.parts:\n",
        "    print(response.text, '-' * 30)"
      ],
      "metadata": {
        "colab": {
          "base_uri": "https://localhost:8080/",
          "height": 425
        },
        "id": "EC9VpZyyzXxU",
        "outputId": "31dcd537-5aab-4698-c7c7-1af2fa5d9948"
      },
      "execution_count": 19,
      "outputs": [
        {
          "output_type": "stream",
          "name": "stdout",
          "text": [
            "Aquamarine\n",
            " ------------------------------\n",
            "Maroon\n",
            " ------------------------------\n",
            "Marigold\n",
            " ------------------------------\n",
            "Maroon\n",
            " ------------------------------\n",
            "Maroon\n",
            " ------------------------------\n",
            "Maroon\n",
            " ------------------------------\n",
            "Aquamarine\n",
            " ------------------------------\n",
            "Maroon\n",
            " ------------------------------\n"
          ]
        },
        {
          "output_type": "stream",
          "name": "stderr",
          "text": [
            "WARNING:tornado.access:429 POST /v1beta/models/gemini-1.5-flash:generateContent?%24alt=json%3Benum-encoding%3Dint (127.0.0.1) 736.04ms\n",
            "WARNING:tornado.access:429 POST /v1beta/models/gemini-1.5-flash:generateContent?%24alt=json%3Benum-encoding%3Dint (127.0.0.1) 614.77ms\n",
            "WARNING:tornado.access:429 POST /v1beta/models/gemini-1.5-flash:generateContent?%24alt=json%3Benum-encoding%3Dint (127.0.0.1) 659.67ms\n",
            "WARNING:tornado.access:429 POST /v1beta/models/gemini-1.5-flash:generateContent?%24alt=json%3Benum-encoding%3Dint (127.0.0.1) 887.78ms\n"
          ]
        },
        {
          "output_type": "stream",
          "name": "stdout",
          "text": [
            "Maroon\n",
            " ------------------------------\n",
            "Maroon\n",
            " ------------------------------\n"
          ]
        }
      ]
    },
    {
      "cell_type": "code",
      "source": [
        "low_temp_model = genai.GenerativeModel(\n",
        "    'gemini-1.5-flash',\n",
        "    generation_config=genai.GenerationConfig(temperature=0.0))\n",
        "\n",
        "for _ in range(3):\n",
        "  response = low_temp_model.generate_content('Pick a random colour... (respond in a single word)',\n",
        "                                             request_options=retry_policy)\n",
        "  if response.parts:\n",
        "    print(response.text, '-' * 25)"
      ],
      "metadata": {
        "colab": {
          "base_uri": "https://localhost:8080/",
          "height": 119
        },
        "id": "IvmR7sZI0Xwp",
        "outputId": "4891e5ba-084b-4725-e890-b76eab2fdba5"
      },
      "execution_count": 20,
      "outputs": [
        {
          "output_type": "stream",
          "name": "stdout",
          "text": [
            "Maroon\n",
            " -------------------------\n",
            "Maroon\n",
            " -------------------------\n",
            "Maroon\n",
            " -------------------------\n"
          ]
        }
      ]
    },
    {
      "cell_type": "markdown",
      "source": [
        "<font face=\"Georgia\" size=5 color=' #C60819'> **Top-K and Top-P**<font>\n",
        "\n",
        "Like temperature, top-K and top-P parameters are also used to control the diversity of the model's output.\n",
        "\n",
        "Top-K is a positive integer that defines the number of most probable tokens from which to select the output token. A top-K of 1 selects a single token, performing greedy decoding.\n",
        "\n",
        "Top-P defines the probability threshold that, once cumulatively exceeded, tokens stop being selected as candidates. A top-P of 0 is typically equivalent to greedy decoding, and a top-P of 1 typically selects every token in the model's vocabulary.\n",
        "\n",
        "When both are supplied, the Gemini API will filter top-K tokens first, then top-P and then finally sample from the candidate tokens using the supplied temperature.\n",
        "\n",
        "Run this example a number of times, change the settings and observe the change in output.\n"
      ],
      "metadata": {
        "id": "YRTDybm20-xS"
      }
    },
    {
      "cell_type": "code",
      "source": [
        "model = genai.GenerativeModel(\n",
        "    'gemini-1.5-flash-001',\n",
        "    generation_config=genai.GenerationConfig(\n",
        "        # These are the default values for gemini-1.5-flash-001.\n",
        "        temperature=1.0,\n",
        "        top_k=64,\n",
        "        top_p=0.95,\n",
        "    ))\n",
        "\n",
        "story_prompt = \"You are a creative writer. Write a short story about an elephant who goes on an adventure.\"\n",
        "response = model.generate_content(story_prompt, request_options=retry_policy)\n",
        "print(response.text)"
      ],
      "metadata": {
        "colab": {
          "base_uri": "https://localhost:8080/",
          "height": 377
        },
        "id": "q4mm9l3G2Se7",
        "outputId": "f21a21fd-6cf3-4077-cf9a-554b8df018f0"
      },
      "execution_count": 21,
      "outputs": [
        {
          "output_type": "stream",
          "name": "stdout",
          "text": [
            "Bartholomew the elephant was a creature of habit. Every morning, he'd wake with the sun, munch on a few leaves, and then spend the day in the cool shade of the baobab tree, watching the world go by.  But today, something felt different. A strange, tingling sensation buzzed in his trunk. \n",
            "\n",
            "The sensation grew stronger as the day wore on. It was a feeling of restlessness, a yearning for something...different. He ignored it for a while, trying to find comfort in the familiar, but the feeling persisted. It was then that he spotted a tiny, bright blue bird flitting around the edge of the forest.\n",
            "\n",
            "\"Excuse me,\" Bartholomew called, his voice rumbling like thunder. \"Have you seen anything…unusual today?\"\n",
            "\n",
            "The bird, startled, looked up. \"Unusual? Why, yes! I saw the most magnificent waterfall just beyond the thorny thicket, the kind that makes you want to dance!\"\n",
            "\n",
            "Bartholomew's trunk twitched. He had never seen a waterfall before, just a trickle of water from a nearby stream.  The restlessness turned into a burning curiosity. \"A waterfall? Where?\"\n",
            "\n",
            "The bird fluttered its wings, leading the way. Bartholomew, with his enormous size, pushed through the thicket, leaving a trail of crunching leaves and snapping twigs behind him.  \n",
            "\n",
            "He emerged into a clearing, and there it was. A majestic waterfall, cascading down a rock face, sunlight catching the water droplets and turning them into sparkling diamonds. The air vibrated with the sound of rushing water, and a rainbow arced across the sky.\n",
            "\n",
            "Bartholomew felt a wave of exhilaration, a sense of freedom he hadn't known before. He dipped his trunk into the pool at the foot of the waterfall, the cool water a refreshing shock. He splashed, he trumpeted, he danced, the joyful sound echoing through the valley.\n",
            "\n",
            "As the sun began to set, painting the sky in hues of orange and purple, Bartholomew knew he had to return home. He had discovered something new and wonderful, a feeling he would never forget.  As he lumbered back towards the baobab tree, he knew that his world was no longer just the cool shade and the familiar sights. He was a creature of habit, yes, but also a creature of adventure, with a spirit that could now explore beyond the boundaries of his comfort zone. He had found something new, and there was more to explore, more to experience. \n",
            "\n",
            "The next morning, Bartholomew woke up with the sun. He stretched, he munched on his leaves, and then, with a happy rumble in his chest, he set off towards the waterfall, the blue bird singing a cheerful melody beside him. The adventures had just begun. \n",
            "\n"
          ]
        }
      ]
    },
    {
      "cell_type": "markdown",
      "source": [
        "<font face=\"Georgia\" size=5 color=' #C6BA08  '> **Prompting**<font>\n",
        "\n",
        "\n",
        "This section contains some prompts from the chapter for you to try out directly in the API. Try changing the text here to see how each prompt performs with different instructions, more examples, or any other changes you can think of."
      ],
      "metadata": {
        "id": "Bj-2OCRz2jLd"
      }
    },
    {
      "cell_type": "markdown",
      "source": [
        "## **Zero-shot**\n",
        "\n",
        "Zero-shot prompts are prompts that describe the request for the model directly"
      ],
      "metadata": {
        "id": "ZO4bj_rE2qcU"
      }
    },
    {
      "cell_type": "code",
      "source": [
        "model = genai.GenerativeModel(\n",
        "    'gemini-1.5-flash-001',\n",
        "    generation_config=genai.GenerationConfig(\n",
        "        temperature=0.1,\n",
        "        top_p=1,\n",
        "        max_output_tokens=5,\n",
        "    ))\n",
        "\n",
        "zero_shot_prompt = \"\"\"Classify movie reviews as POSITIVE, NEUTRAL or NEGATIVE.\n",
        "Review: \"Her\" is a disturbing study revealing the direction\n",
        "humanity is headed if AI is allowed to keep evolving,\n",
        "unchecked. I wish there were more movies like this masterpiece.\n",
        "Sentiment: \"\"\"\n",
        "\n",
        "response = model.generate_content(zero_shot_prompt, request_options=retry_policy)\n",
        "print(response.text)"
      ],
      "metadata": {
        "colab": {
          "base_uri": "https://localhost:8080/",
          "height": 34
        },
        "id": "RtJhKnPf2wUO",
        "outputId": "9733fa02-b43e-4488-e88c-fc53b09784b3"
      },
      "execution_count": 22,
      "outputs": [
        {
          "output_type": "stream",
          "name": "stdout",
          "text": [
            "Sentiment: **POSITIVE**\n"
          ]
        }
      ]
    },
    {
      "cell_type": "markdown",
      "source": [
        "## **Enum mode**\n",
        "\n",
        "The models are trained to generate text, and can sometimes produce more text than you may wish for. In the preceding example, the model will output the label, sometimes it can include a preceding \"Sentiment\" label, and without an output token limit, it may also add explanatory text afterwards.\n",
        "\n",
        "The Gemini API has an Enum mode feature that allows you to constrain the output to a fixed set of values."
      ],
      "metadata": {
        "id": "VkYlPb5k2_kj"
      }
    },
    {
      "cell_type": "markdown",
      "source": [
        "import enum\n",
        "\n",
        "class Sentiment(enum.Enum):\n",
        "    POSITIVE = \"positive\"\n",
        "    NEUTRAL = \"neutral\"\n",
        "    NEGATIVE = \"negative\"\n",
        "\n",
        "\n",
        "model = genai.GenerativeModel(\n",
        "    'gemini-1.5-flash-001',\n",
        "    generation_config=genai.GenerationConfig(\n",
        "        response_mime_type=\"text/x.enum\",\n",
        "        response_schema=Sentiment\n",
        "    ))\n",
        "\n",
        "response = model.generate_content(zero_shot_prompt, request_options=retry_policy)\n",
        "print(response.text)"
      ],
      "metadata": {
        "id": "ft0Kypfc3F_T"
      }
    },
    {
      "cell_type": "markdown",
      "source": [
        "One-shot and few-shot\n",
        "\n",
        "Providing an example of the expected response is known as a \"one-shot\" prompt. When you provide multiple examples, it is a \"few-shot\" prompt."
      ],
      "metadata": {
        "id": "MiyvHtVH3J3T"
      }
    },
    {
      "cell_type": "code",
      "source": [
        "model = genai.GenerativeModel(\n",
        "    'gemini-1.5-flash-latest',\n",
        "    generation_config=genai.GenerationConfig(\n",
        "        temperature=0.1,\n",
        "        top_p=1,\n",
        "        max_output_tokens=250,\n",
        "    ))\n",
        "\n",
        "few_shot_prompt = \"\"\"Parse a customer's pizza order into valid JSON:\n",
        "\n",
        "EXAMPLE:\n",
        "I want a small pizza with cheese, tomato sauce, and pepperoni.\n",
        "JSON Response:\n",
        "```\n",
        "{\n",
        "\"size\": \"small\",\n",
        "\"type\": \"normal\",\n",
        "\"ingredients\": [\"cheese\", \"tomato sauce\", \"peperoni\"]\n",
        "}\n",
        "```\n",
        "\n",
        "EXAMPLE:\n",
        "Can I get a large pizza with tomato sauce, basil and mozzarella\n",
        "JSON Response:\n",
        "```\n",
        "{\n",
        "\"size\": \"medium\",\n",
        "\"type\": \"cheessy\",\n",
        "\"ingredients\": [\"mushroom\", \"basil\", \"mozzarella\"]\n",
        "}\n",
        "\n",
        "ORDER:\n",
        "\"\"\"\n",
        "\n",
        "customer_order = \"Give me a large with cheese & pineapple\"\n",
        "\n",
        "\n",
        "response = model.generate_content([few_shot_prompt, customer_order], request_options=retry_policy)\n",
        "print(response.text)"
      ],
      "metadata": {
        "colab": {
          "base_uri": "https://localhost:8080/",
          "height": 153
        },
        "id": "BuvbDke73tY4",
        "outputId": "46844d65-71d9-4ad5-d679-a89b696da5e4"
      },
      "execution_count": 23,
      "outputs": [
        {
          "output_type": "stream",
          "name": "stdout",
          "text": [
            "```json\n",
            "{\n",
            "  \"size\": \"large\",\n",
            "  \"type\": \"normal\",\n",
            "  \"ingredients\": [\"cheese\", \"pineapple\"]\n",
            "}\n",
            "```\n",
            "\n"
          ]
        }
      ]
    },
    {
      "cell_type": "markdown",
      "source": [
        "<font face=\"Georgia\" size=5 color=' #9208C6  '> **JSON mode**<font>\n",
        "\n",
        "To provide control over the schema, and to ensure that you only receive JSON (with no other text or markdown), you can use the Gemini API's JSON mode. This forces the model to constrain decoding, such that token selection is guided by the supplied schema."
      ],
      "metadata": {
        "id": "Sx99t0IJ4AD-"
      }
    },
    {
      "cell_type": "code",
      "source": [
        "import typing_extensions as typing\n",
        "\n",
        "class PizzaOrder(typing.TypedDict):\n",
        "    size: str\n",
        "    ingredients: list[str]\n",
        "    type: str\n",
        "\n",
        "\n",
        "model = genai.GenerativeModel(\n",
        "    'gemini-1.5-flash-latest',\n",
        "    generation_config=genai.GenerationConfig(\n",
        "        temperature=0.1,\n",
        "        response_mime_type=\"application/json\",\n",
        "        response_schema=PizzaOrder,\n",
        "    ))\n",
        "\n",
        "response = model.generate_content(\"Can I have a large dessert pizza with pineapple and vanilla\")\n",
        "print(response.text)"
      ],
      "metadata": {
        "colab": {
          "base_uri": "https://localhost:8080/",
          "height": 34
        },
        "id": "PUVQApaF4jGA",
        "outputId": "724bfd83-67d9-4d36-8134-87087fde06e9"
      },
      "execution_count": 24,
      "outputs": [
        {
          "output_type": "stream",
          "name": "stdout",
          "text": [
            "{\"ingredients\": [\"pineapple\", \"vanilla\"], \"size\": \"large\", \"type\": \"dessert pizza\"}\n"
          ]
        }
      ]
    },
    {
      "cell_type": "markdown",
      "source": [
        "<font face=\"Georgia\" size=5 color=' #9208C6  '> **Chain of Thought (CoT)**<font>\n",
        "\n",
        "Direct prompting on LLMs can return answers quickly and (in terms of output token usage) efficiently, but they can be prone to hallucination. The answer may \"look\" correct (in terms of language and syntax) but is incorrect in terms of factuality and reasoning.\n",
        "\n",
        "Chain-of-Thought prompting is a technique where you instruct the model to output intermediate reasoning steps, and it typically gets better results, especially when combined with few-shot examples. It is worth noting that this technique doesn't completely eliminate hallucinations, and that it tends to cost more to run, due to the increased token count.\n",
        "\n",
        "As models like the Gemini family are trained to be \"chatty\" and provide reasoning steps, you can ask the model to be more direct in the prompt."
      ],
      "metadata": {
        "id": "OX65D79k4rMi"
      }
    },
    {
      "cell_type": "code",
      "source": [
        "prompt = \"\"\"When I was 4 years old, my partner was 3 times my age. Now, I\n",
        "am 20 years old. How old is my partner? Return the answer directly.\"\"\"\n",
        "\n",
        "model = genai.GenerativeModel('gemini-1.5-flash-latest')\n",
        "response = model.generate_content(prompt, request_options=retry_policy)\n",
        "\n",
        "print(response.text)"
      ],
      "metadata": {
        "colab": {
          "base_uri": "https://localhost:8080/",
          "height": 51
        },
        "id": "2IN_YeSV5Ocd",
        "outputId": "bdaaa782-2806-4bcb-be68-7ceae85b5d2b"
      },
      "execution_count": 25,
      "outputs": [
        {
          "output_type": "stream",
          "name": "stdout",
          "text": [
            "41\n",
            "\n"
          ]
        }
      ]
    },
    {
      "cell_type": "markdown",
      "source": [
        "**Now the same approach, but indicate to the model that it should \"think step by step\".**"
      ],
      "metadata": {
        "id": "pSpWBbI15XF8"
      }
    },
    {
      "cell_type": "code",
      "source": [
        "prompt = \"\"\"\"When I was 3 years old, my partner was 3 times my age. Now,\n",
        "I am 20 years old. How old is my partner? Let's think step by step.\"\"\"\n",
        "\n",
        "response = model.generate_content(prompt, request_options=retry_policy)\n",
        "print(response.text)"
      ],
      "metadata": {
        "colab": {
          "base_uri": "https://localhost:8080/",
          "height": 187
        },
        "id": "coeuE8HV5brk",
        "outputId": "453766b6-d2a8-454a-8c93-096f358c6d5f"
      },
      "execution_count": 26,
      "outputs": [
        {
          "output_type": "stream",
          "name": "stdout",
          "text": [
            "Here's how to solve this step-by-step:\n",
            "\n",
            "1. **Partner's age when you were 3:** When you were 3, your partner was 3 times your age, meaning they were 3 * 3 = 9 years old.\n",
            "\n",
            "2. **Age difference:** The age difference between you and your partner is 9 - 3 = 6 years.  Your partner is always 6 years older than you.\n",
            "\n",
            "3. **Partner's current age:** You are now 20 years old.  Since your partner is 6 years older, your partner is currently 20 + 6 = 26 years old.\n",
            "\n",
            "Therefore, your partner is now $\\boxed{26}$ years old.\n",
            "\n"
          ]
        }
      ]
    },
    {
      "cell_type": "markdown",
      "source": [
        "<font face=\"Georgia\" size=5 color=' #9208C6  '> **ReAct: Reason and act**<font>\n",
        "\n",
        "In this example you will run a ReAct prompt directly in the Gemini API and perform the searching steps yourself. As this prompt follows a well-defined structure, there are frameworks available that wrap the prompt into easier-to-use APIs that make tool calls automatically, such as the LangChain example from the chapter.\n",
        "\n",
        "To try this out with the Wikipedia search engine, check out the Searching Wikipedia with ReAct cookbook example.\n",
        "\n",
        "Note: The prompt and in-context examples used here are from https://github.com/ysymyth/ReAct which is published under a MIT license, Copyright (c) 2023 Shunyu Yao."
      ],
      "metadata": {
        "id": "-OjnwWJ5555M"
      }
    },
    {
      "cell_type": "code",
      "source": [
        "model_instructions = \"\"\"\n",
        "Solve a question answering task with interleaving Thought, Action, Observation steps. Thought can reason about the current situation,\n",
        "Observation is understanding relevant information from an Action's output and Action can be one of three types:\n",
        " (1) <search>entity</search>, which searches the exact entity on Wikipedia and returns the first paragraph if it exists. If not, it\n",
        "     will return some similar entities to search and you can try to search the information from those topics.\n",
        " (2) <lookup>keyword</lookup>, which returns the next sentence containing keyword in the current context. This only does exact matches,\n",
        "     so keep your searches short.\n",
        " (3) <finish>answer</finish>, which returns the answer and finishes the task.\n",
        "\"\"\"\n",
        "\n",
        "example1 = \"\"\"Question\n",
        "Musician and satirist Allie Goertz wrote a song about the \"The Simpsons\" character Milhouse, who Matt Groening named after who?\n",
        "\n",
        "Thought 1\n",
        "The question simplifies to \"The Simpsons\" character Milhouse is named after who. I only need to search Milhouse and find who it is named after.\n",
        "\n",
        "Action 1\n",
        "<search>Milhouse</search>\n",
        "\n",
        "Observation 1\n",
        "Milhouse Mussolini Van Houten is a recurring character in the Fox animated television series The Simpsons voiced by Pamela Hayden and created by Matt Groening.\n",
        "\n",
        "Thought 2\n",
        "The paragraph does not tell who Milhouse is named after, maybe I can look up \"named after\".\n",
        "\n",
        "Action 2\n",
        "<lookup>named after</lookup>\n",
        "\n",
        "Observation 2\n",
        "Milhouse was named after U.S. president Richard Nixon, whose middle name was Milhous.\n",
        "\n",
        "Thought 3\n",
        "Milhouse was named after U.S. president Richard Nixon, so the answer is Richard Nixon.\n",
        "\n",
        "Action 3\n",
        "<finish>Richard Nixon</finish>\n",
        "\"\"\"\n",
        "\n",
        "example2 = \"\"\"Question\n",
        "What is the elevation range for the area that the eastern sector of the Colorado orogeny extends into?\n",
        "\n",
        "Thought 1\n",
        "I need to search Colorado orogeny, find the area that the eastern sector of the Colorado orogeny extends into, then find the elevation range of the area.\n",
        "\n",
        "Action 1\n",
        "<search>Colorado orogeny</search>\n",
        "\n",
        "Observation 1\n",
        "The Colorado orogeny was an episode of mountain building (an orogeny) in Colorado and surrounding areas.\n",
        "\n",
        "Thought 2\n",
        "It does not mention the eastern sector. So I need to look up eastern sector.\n",
        "\n",
        "Action 2\n",
        "<lookup>eastern sector</lookup>\n",
        "\n",
        "Observation 2\n",
        "The eastern sector extends into the High Plains and is called the Central Plains orogeny.\n",
        "\n",
        "Thought 3\n",
        "The eastern sector of Colorado orogeny extends into the High Plains. So I need to search High Plains and find its elevation range.\n",
        "\n",
        "Action 3\n",
        "<search>High Plains</search>\n",
        "\n",
        "Observation 3\n",
        "High Plains refers to one of two distinct land regions\n",
        "\n",
        "Thought 4\n",
        "I need to instead search High Plains (United States).\n",
        "\n",
        "Action 4\n",
        "<search>High Plains (United States)</search>\n",
        "\n",
        "Observation 4\n",
        "The High Plains are a subregion of the Great Plains. From east to west, the High Plains rise in elevation from around 1,800 to 7,000 ft (550 to 2,130m).\n",
        "\n",
        "Thought 5\n",
        "High Plains rise in elevation from around 1,800 to 7,000 ft, so the answer is 1,800 to 7,000 ft.\n",
        "\n",
        "Action 5\n",
        "<finish>1,800 to 7,000 ft</finish>\n",
        "\"\"\"\n",
        "\n",
        "# Come up with more examples yourself, or take a look through https://github.com/ysymyth/ReAct"
      ],
      "metadata": {
        "id": "20LY9HrD6GQS"
      },
      "execution_count": 28,
      "outputs": []
    },
    {
      "cell_type": "markdown",
      "source": [
        "To capture a single step at a time, while ignoring any hallucinated Observation steps, you will use stop_sequences to end the generation process. The steps are **Thought, Action, Observation**, in that order."
      ],
      "metadata": {
        "id": "5zkQHSgr6b5a"
      }
    },
    {
      "cell_type": "code",
      "source": [
        "question = \"\"\"Question\n",
        "Who was the youngest author listed on the transformers NLP paper?\n",
        "\"\"\"\n",
        "\n",
        "model = genai.GenerativeModel('gemini-1.5-flash-latest')\n",
        "react_chat = model.start_chat()\n",
        "\n",
        "# You will perform the Action, so generate up to, but not including, the Observation.\n",
        "config = genai.GenerationConfig(stop_sequences=[\"\\nObservation\"])\n",
        "\n",
        "resp = react_chat.send_message(\n",
        "    [model_instructions, example1, example2, question],\n",
        "    generation_config=config,\n",
        "    request_options=retry_policy)\n",
        "print(resp.text)"
      ],
      "metadata": {
        "colab": {
          "base_uri": "https://localhost:8080/",
          "height": 139
        },
        "id": "O6wr315A6efr",
        "outputId": "37496a52-0736-4677-b903-4aae4b4b52dd"
      },
      "execution_count": 29,
      "outputs": [
        {
          "output_type": "stream",
          "name": "stdout",
          "text": [
            "Thought 1\n",
            "I need to find the Transformers NLP paper and then find the authors' ages to determine the youngest.  This will require multiple steps.  First, I need to find the paper.\n",
            "\n",
            "Action 1\n",
            "<search>Transformers NLP paper</search>\n",
            "\n"
          ]
        }
      ]
    },
    {
      "cell_type": "markdown",
      "source": [
        "**Now you can perform this research yourself and supply it back to the model.**"
      ],
      "metadata": {
        "id": "xRjeNG2w7C5A"
      }
    },
    {
      "cell_type": "code",
      "source": [
        "observation = \"\"\"Observation 1\n",
        "[1706.03762] Attention Is All You Need\n",
        "Ashish Vaswani, Noam Shazeer, Niki Parmar, Jakob Uszkoreit, Llion Jones, Aidan N. Gomez, Lukasz Kaiser, Illia Polosukhin\n",
        "We propose a new simple network architecture, the Transformer, based solely on attention mechanisms, dispensing with recurrence and convolutions entirely.\n",
        "\"\"\"\n",
        "resp = react_chat.send_message(observation, generation_config=config, request_options=retry_policy)\n",
        "print(resp.text)"
      ],
      "metadata": {
        "colab": {
          "base_uri": "https://localhost:8080/",
          "height": 139
        },
        "id": "x9YiSNOp7CTz",
        "outputId": "7d0b5638-3443-4257-8994-603630b2ba34"
      },
      "execution_count": 30,
      "outputs": [
        {
          "output_type": "stream",
          "name": "stdout",
          "text": [
            "Thought 2\n",
            "The observation gives me the authors of the paper \"Attention is All You Need\". I don't have their ages, so I'll need to search for each author individually to find their age or date of birth. This will be a time-consuming process, and I might not be able to find all their ages.  I'll try a different approach.  Instead of finding their ages directly, I will try to find information about when they made significant contributions to the field, which might help indirectly determine who was youngest at the time of publication.\n",
            "\n",
            "Action 2\n",
            "<search>Aidan N. Gomez</search>\n",
            "\n"
          ]
        }
      ]
    },
    {
      "cell_type": "markdown",
      "source": [
        "This process repeats until the <finish> action is reached. You can continue running this yourself if you like, or try the Wikipedia example to see a fully automated ReAct system at work."
      ],
      "metadata": {
        "id": "NCJYbh1X7NYf"
      }
    },
    {
      "cell_type": "markdown",
      "source": [
        "<font face=\"Georgia\" size=5 color=' #1008C6'> **Code prompting**<font>\n",
        "\n",
        "\n",
        "### **Generating code**\n",
        "\n",
        "The Gemini family of models can be used to generate code, configuration and scripts. Generating code can be helpful when learning to code, learning a new language or for rapidly generating a first draft.\n",
        "\n",
        "It's important to be aware that since LLMs can't reason, and can repeat training data, it's essential to read and test your code first, and comply with any relevant licenses.\n"
      ],
      "metadata": {
        "id": "w5bjCICh7OXf"
      }
    },
    {
      "cell_type": "code",
      "source": [
        "model = genai.GenerativeModel(\n",
        "    'gemini-1.5-flash-latest',\n",
        "    generation_config=genai.GenerationConfig(\n",
        "        temperature=1,\n",
        "        top_p=1,\n",
        "        max_output_tokens=1024,\n",
        "    ))\n",
        "\n",
        "# Gemini 1.5 models are very chatty, so it helps to specify they stick to the code.\n",
        "code_prompt = \"\"\"\n",
        "Write a Python function to calculate the factorial of a number. No explanation, provide only the code.\n",
        "\"\"\"\n",
        "\n",
        "response = model.generate_content(code_prompt, request_options=retry_policy)\n",
        "Markdown(response.text)"
      ],
      "metadata": {
        "colab": {
          "base_uri": "https://localhost:8080/",
          "height": 102
        },
        "id": "yzydjf3U7xQQ",
        "outputId": "80c8afa9-bbfb-433d-e2f2-0116dc7c3341"
      },
      "execution_count": 31,
      "outputs": [
        {
          "output_type": "execute_result",
          "data": {
            "text/plain": [
              "<IPython.core.display.Markdown object>"
            ],
            "text/markdown": "```python\ndef factorial(n):\n  if n == 0:\n    return 1\n  else:\n    return n * factorial(n-1)\n```\n"
          },
          "metadata": {},
          "execution_count": 31
        }
      ]
    },
    {
      "cell_type": "markdown",
      "source": [
        "<font face=\"Georgia\" size=5 color=' #1008C6'> **Code execution**<font>\n",
        "\n",
        "The Gemini API can automatically run generated code too, and will return the output."
      ],
      "metadata": {
        "id": "GdkFsorL71Lo"
      }
    },
    {
      "cell_type": "code",
      "source": [
        "model = genai.GenerativeModel(\n",
        "    'gemini-1.5-flash-latest',\n",
        "    tools='code_execution',)\n",
        "\n",
        "code_exec_prompt = \"\"\"\n",
        "Calculate the sum of the first 7 prime numbers. Only consider the odd primes, and make sure you count them all.\n",
        "\"\"\"\n",
        "\n",
        "response = model.generate_content(code_exec_prompt, request_options=retry_policy)\n",
        "Markdown(response.text)"
      ],
      "metadata": {
        "colab": {
          "base_uri": "https://localhost:8080/",
          "height": 466
        },
        "id": "LcJKE_vu8DOg",
        "outputId": "ed96c2d0-88cd-4f3f-eb73-d57070731ce8"
      },
      "execution_count": 32,
      "outputs": [
        {
          "output_type": "execute_result",
          "data": {
            "text/plain": [
              "<IPython.core.display.Markdown object>"
            ],
            "text/markdown": "To calculate the sum of the first 7 odd prime numbers, I need to identify those primes first.  Odd prime numbers are prime numbers greater than 2.\n\n\n``` python\ndef is_prime(n):\n    \"\"\"Checks if a number is prime.\"\"\"\n    if n <= 1:\n        return False\n    for i in range(2, int(n**0.5) + 1):\n        if n % i == 0:\n            return False\n    return True\n\nprimes = []\nnum = 3  #Start from 3, the first odd prime\ncount = 0\nwhile count < 7:\n    if is_prime(num):\n        primes.append(num)\n        count += 1\n    num += 2 #only check odd numbers\n\nprint(f'{primes=}')\nprime_sum = sum(primes)\nprint(f'{prime_sum=}')\n\n```\n```\nprimes=[3, 5, 7, 11, 13, 17, 19]\nprime_sum=75\n\n```\nThe first seven odd prime numbers are 3, 5, 7, 11, 13, 17, and 19.  Their sum is 75.\n"
          },
          "metadata": {},
          "execution_count": 32
        }
      ]
    },
    {
      "cell_type": "markdown",
      "source": [
        "**While this looks like a single-part response, you can inspect the response to see the each of the steps: initial text, code generation, execution results, and final text summary.**"
      ],
      "metadata": {
        "id": "asDxW65X8Ouh"
      }
    },
    {
      "cell_type": "code",
      "source": [
        "for part in response.candidates[0].content.parts:\n",
        "  print(part)\n",
        "  print(\"-----\")"
      ],
      "metadata": {
        "colab": {
          "base_uri": "https://localhost:8080/"
        },
        "id": "HeEeMjdb8QVQ",
        "outputId": "f71117a6-89cb-4c27-f35e-10130e77aa30"
      },
      "execution_count": 33,
      "outputs": [
        {
          "output_type": "stream",
          "name": "stdout",
          "text": [
            "text: \"To calculate the sum of the first 7 odd prime numbers, I need to identify those primes first.  Odd prime numbers are prime numbers greater than 2.\\n\\n\"\n",
            "\n",
            "-----\n",
            "executable_code {\n",
            "  language: PYTHON\n",
            "  code: \"\\ndef is_prime(n):\\n    \\\"\\\"\\\"Checks if a number is prime.\\\"\\\"\\\"\\n    if n <= 1:\\n        return False\\n    for i in range(2, int(n**0.5) + 1):\\n        if n % i == 0:\\n            return False\\n    return True\\n\\nprimes = []\\nnum = 3  #Start from 3, the first odd prime\\ncount = 0\\nwhile count < 7:\\n    if is_prime(num):\\n        primes.append(num)\\n        count += 1\\n    num += 2 #only check odd numbers\\n\\nprint(f\\'{primes=}\\')\\nprime_sum = sum(primes)\\nprint(f\\'{prime_sum=}\\')\\n\"\n",
            "}\n",
            "\n",
            "-----\n",
            "code_execution_result {\n",
            "  outcome: OUTCOME_OK\n",
            "  output: \"primes=[3, 5, 7, 11, 13, 17, 19]\\nprime_sum=75\\n\"\n",
            "}\n",
            "\n",
            "-----\n",
            "text: \"The first seven odd prime numbers are 3, 5, 7, 11, 13, 17, and 19.  Their sum is 75.\\n\"\n",
            "\n",
            "-----\n"
          ]
        }
      ]
    },
    {
      "cell_type": "markdown",
      "source": [
        "<font face=\"Georgia\" size=5 color=' #1008C6'> **Explaining code**<font>\n",
        "\n",
        "The Gemini family of models can explain code to you too."
      ],
      "metadata": {
        "id": "K9lvtDYd9AGt"
      }
    },
    {
      "cell_type": "code",
      "source": [
        "file_contents = !curl https://raw.githubusercontent.com/magicmonty/bash-git-prompt/refs/heads/master/gitprompt.sh\n",
        "\n",
        "explain_prompt = f\"\"\"\n",
        "Please explain what this file does at a very high level. What is it, and why would I use it?\n",
        "\n",
        "```\n",
        "{file_contents}\n",
        "```\n",
        "\"\"\"\n",
        "\n",
        "model = genai.GenerativeModel('gemini-1.5-flash-latest')\n",
        "\n",
        "response = model.generate_content(explain_prompt, request_options=retry_policy)\n",
        "Markdown(response.text)"
      ],
      "metadata": {
        "colab": {
          "base_uri": "https://localhost:8080/",
          "height": 229
        },
        "id": "vPl8gktY9Ncs",
        "outputId": "92b09c80-110b-42b5-9bef-f97ed431d63b"
      },
      "execution_count": 34,
      "outputs": [
        {
          "output_type": "execute_result",
          "data": {
            "text/plain": [
              "<IPython.core.display.Markdown object>"
            ],
            "text/markdown": "This file is a bash script that provides a highly customizable Git prompt for your terminal.  In essence, it enhances your command line interface to display concise information about your current Git repository.\n\nWhy would you use it?\n\n* **Improved Git Workflow:**  The script shows you your current Git branch, status (changes staged, unstaged, untracked files, conflicts), and potentially other information like upstream branch differences, all directly within your terminal prompt. This eliminates the need to constantly run `git status` and provides at-a-glance awareness of your repository's state.\n\n* **Customization:**  The script allows for extensive customization of the prompt's appearance (colors, symbols, layout), and what information it displays.  You can choose from pre-defined themes or create your own.\n\n* **Cross-Shell Compatibility:** It strives for compatibility across bash and zsh shells.\n\nIn short, it's a tool to make working with Git more efficient and visually appealing by integrating crucial Git information directly into your shell prompt.\n"
          },
          "metadata": {},
          "execution_count": 34
        }
      ]
    }
  ]
}